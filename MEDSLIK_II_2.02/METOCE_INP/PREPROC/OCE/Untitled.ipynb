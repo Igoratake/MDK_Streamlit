{
 "cells": [
  {
   "cell_type": "code",
   "execution_count": 2,
   "id": "0e5441bf-a972-443a-b793-f1084858407a",
   "metadata": {},
   "outputs": [],
   "source": [
    "import pandas as pd\n",
    "import xarray as xr\n"
   ]
  },
  {
   "cell_type": "markdown",
   "id": "3f13ddd4-439e-492f-8fe5-b99f4f12a626",
   "metadata": {},
   "source": [
    "# Creating mrc files\n"
   ]
  },
  {
   "cell_type": "code",
   "execution_count": 49,
   "id": "c2a7368c-ea92-4744-b365-f9afce306938",
   "metadata": {},
   "outputs": [],
   "source": [
    "\n",
    "# ex = xr.open_dataset('MDK_ocean_230714_T.nc')\n",
    "# ex = xr.open_dataset('../../../../../MEDSLIK_II_2.02/METOCE_INP/PREPROC/OCE/211014_U.nc')"
   ]
  },
  {
   "cell_type": "code",
   "execution_count": 50,
   "id": "32b0fa2a-ad2d-4bc1-a9fd-3a4790192cff",
   "metadata": {},
   "outputs": [],
   "source": [
    "hour_1 = ex.isel(time_counter=0)"
   ]
  },
  {
   "cell_type": "code",
   "execution_count": 80,
   "id": "8b9b19e1-7817-4edc-95ae-0178ff03ec51",
   "metadata": {},
   "outputs": [],
   "source": [
    "for file in ['230715_V.nc','230715_U.nc','230715_T.nc']:\n",
    "\n",
    "    ex = xr.open_dataset(file)\n",
    "    hour_1 = ex.isel(time_counter=0)\n",
    "    if '_T' in file:\n",
    "        hour_1 = hour_1.isel(depth=0)  \n",
    "    df = hour_1.to_dataframe().reset_index()\n",
    "    df = df.fillna(9999)\n",
    "    df = df.drop(['time_counter'],axis=1)\n",
    "      \n",
    "    # df = df.drop(['depth'],axis=1)\n",
    "    if '_V' in file:\n",
    "        df_v = df.pivot(index = ['nav_lat','nav_lon'],columns='depth',values = 'vomecrty').reset_index().sort_values(['nav_lon','nav_lat'])\n",
    "        df_v.columns = ['lat','lon','v_srf','v_10m','v_30m','v_120m']\n",
    "    if '_U' in file:\n",
    "        df_u = df.pivot(index = ['nav_lat','nav_lon'],columns='depth',values = 'vozocrtx').reset_index().sort_values(['nav_lon','nav_lat'])\n",
    "        df_u.columns = ['lat','lon','u_srf','u_10m','u_30m','u_120m']\n",
    "    if '_T' in file:\n",
    "        df_t = df.pivot(index = ['nav_lat','nav_lon'],columns='depth',values = 'votemper').reset_index().sort_values(['nav_lon','nav_lat'])\n",
    "        df_t.columns = ['lat','lon','SST']\n",
    "df = df_u.merge(df_v)\n",
    "df = df.merge(df_t)\n",
    "df = df[['lat','lon','SST','u_srf','v_srf','u_10m','v_10m','u_30m','v_30m','u_120m','v_120m']]"
   ]
  },
  {
   "cell_type": "code",
   "execution_count": 87,
   "id": "b9ae7c88-6c85-45e3-b2ed-378374e723f5",
   "metadata": {},
   "outputs": [],
   "source": [
    "for h in range(1,25):\n",
    "    with open(f'merc230715{h:02d}.mrc', 'w') as f:\n",
    "        f.write(f\"Ocean forecast data for 15/07/2023 {h:02d}:00\\n\")\n",
    "        f.write(\"Subregion of the Global Ocean:\\n\")\n",
    "        f.write(\"40.48  41.48  17.5 18.5   25   25   Geog. limits\\n\")\n",
    "        f.write(\"625   0.0\\n\")\n",
    "        f.write(\"lat        lon        SST        u_srf      v_srf      u_10m      v_10m       u_30m      v_30m      u_120m     v_120m\\n\")\n",
    "        \n",
    "        for index, row in df.iterrows():\n",
    "            f.write(f\"{row['lat']:.4f}    {row['lon']:.4f}    {row['SST']:.4f}     {row['u_srf']:.4f}    {row['v_srf']:.4f}     {row['u_10m']:.4f}    {row['v_10m']:.4f}     {row['u_30m']:.4f}    {row['v_30m']:.4f}     {row['u_120m']:.4f}    {row['v_120m']:.4f}\\n\")"
   ]
  },
  {
   "cell_type": "code",
   "execution_count": 85,
   "id": "8326ce71-c1bf-4bd4-b9b6-9e5da86a86e4",
   "metadata": {},
   "outputs": [
    {
     "data": {
      "text/plain": [
       "18.5"
      ]
     },
     "execution_count": 85,
     "metadata": {},
     "output_type": "execute_result"
    }
   ],
   "source": [
    "df.lon.max()"
   ]
  },
  {
   "cell_type": "markdown",
   "id": "d8806cee-f63c-420b-be39-35f8748b5056",
   "metadata": {},
   "source": [
    " # Creating eri files"
   ]
  },
  {
   "cell_type": "code",
   "execution_count": 91,
   "id": "9d0feb11-944e-4018-bf64-88dfa4bdd5bc",
   "metadata": {},
   "outputs": [
    {
     "ename": "SyntaxError",
     "evalue": "invalid syntax (4155663434.py, line 2)",
     "output_type": "error",
     "traceback": [
      "\u001b[0;36m  Cell \u001b[0;32mIn[91], line 2\u001b[0;36m\u001b[0m\n\u001b[0;31m    met.isel(time=[0:4])\u001b[0m\n\u001b[0m                    ^\u001b[0m\n\u001b[0;31mSyntaxError\u001b[0m\u001b[0;31m:\u001b[0m invalid syntax\n"
     ]
    }
   ],
   "source": [
    "met = xr.open_dataset('../MET/20230714.nc')\n",
    "met.isel(time=[0:4])"
   ]
  },
  {
   "cell_type": "code",
   "execution_count": null,
   "id": "e10ef8a1-336a-4d4e-b3ec-4bfaccf0d17a",
   "metadata": {},
   "outputs": [],
   "source": []
  }
 ],
 "metadata": {
  "kernelspec": {
   "display_name": "Python 3 (ipykernel)",
   "language": "python",
   "name": "python3"
  },
  "language_info": {
   "codemirror_mode": {
    "name": "ipython",
    "version": 3
   },
   "file_extension": ".py",
   "mimetype": "text/x-python",
   "name": "python",
   "nbconvert_exporter": "python",
   "pygments_lexer": "ipython3",
   "version": "3.11.4"
  }
 },
 "nbformat": 4,
 "nbformat_minor": 5
}
